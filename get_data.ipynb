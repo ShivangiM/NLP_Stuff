{
 "cells": [
  {
   "cell_type": "code",
   "execution_count": 17,
   "metadata": {
    "collapsed": true
   },
   "outputs": [],
   "source": [
    "import newspaper\n",
    "from newspaper import Article\n",
    "import re"
   ]
  },
  {
   "cell_type": "code",
   "execution_count": 32,
   "metadata": {
    "collapsed": false
   },
   "outputs": [],
   "source": [
    "RandD = [\"http://timesofindia.indiatimes.com/city/bengaluru/in-big-research-and-development-push-amazon-to-hire-over-1000-in-india/articleshow/59996195.cms\", \"http://www.straitstimes.com/singapore/smes-pump-more-money-into-research-and-development\", \"http://timesofindia.indiatimes.com/city/coimbatore/industries-should-invest-more-in-research-and-development/articleshow/59799094.cms\", \"https://www.seas.harvard.edu/news/2017/07/former-seas-dean-urges-congress-to-fund-research-and-development\", \"http://www.nj.com/opinion/index.ssf/2017/08/restore_funding_to_turbocharge_njs_research_and_de.html\"]\n",
    "ExecutiveMovement = [\"https://www.bloomberg.com/news/articles/2017-08-18/sikka-just-one-of-the-casualties-as-hire-american-hits-india\", \"https://seekingalpha.com/article/4100245-t-stick-facts\", \"http://www.trailermag.com.au/news/article/more-executive-movement-at-linfox\", \"http://businessworld.in/article/General-Motors-India-Names-Sanjiv-Gupta-As-New-President-And-Managing-Director/17-08-2017-124210/\", \"https://retail.franchiseindia.com/article/whats-hot/executive-movement/One-more-vacancy-at-Flipkart-as-VP-of-engineering-QUITS.a4968/\"]\n",
    "FinancialActivity = [\"http://www.financialexpress.com/market/sebi-steps-up-surveillance-on-money-laundering-activities/809216/\", \"http://www.financialexpress.com/market/as-infosys-shares-tank-12-after-vishal-sikkas-resignation-rival-tcs-gains-2-5/813697/\", \"http://www.financialexpress.com/industry/domestic-e-commerce-market-may-grow-to-102-billion-by-2020/242316/\", \"http://www.financialexpress.com/economy/relief-for-taxpayers-companies-with-transitional-credit-get-more-time-to-file-gst-returns/812854/\", \"http://www.financialexpress.com/economy/qatars-economy-takes-a-hit-after-saudi-led-boycott-expansion-in-2017-expected-at-slowest-pace-since-1995/812076/\"]\n"
   ]
  },
  {
   "cell_type": "code",
   "execution_count": 34,
   "metadata": {
    "collapsed": false
   },
   "outputs": [
    {
     "data": {
      "text/plain": [
       "5"
      ]
     },
     "execution_count": 34,
     "metadata": {},
     "output_type": "execute_result"
    }
   ],
   "source": [
    "len(FinancialActivity)"
   ]
  },
  {
   "cell_type": "code",
   "execution_count": 35,
   "metadata": {
    "collapsed": false,
    "scrolled": true
   },
   "outputs": [
    {
     "name": "stdout",
     "output_type": "stream",
     "text": [
      "<type 'str'>\n",
      "in    new cases were taken up for investigation and  cases were completed compared to  new cases taken up and  cases completed in   reuters cracking down on misuse of stock market for money laundering regulator sebi said it has stepped up focused inspection of suspected brokers and other entities leading to action against hundreds of them the capital markets watchdog has also enhanced its cooperation with other regulators and agencies in india as well as abroad for investigations giving details of the trend in investigation cases in its latest annual report sebi said there was a significant increase in the number of cases taken up during   mainly due to the references received from the department of income tax in the matter of long term capital gain short term capital loss in various scrips in    new cases were taken up for investigation and  cases were completed compared to  new cases taken up and  cases completed in   sebi said it is constantly striving to upgrade its investigative skills by making use of it and other latest investigative tools regarding the surveillance measures taken during last year sebi said it regularly conducts meetings with stock exchanges and depositories to keep track of market movements and surveillance activities subsequently action has been taken in the matter of dealing in shares of companies with poor fundamentals as also in cases of misuse of the stock exchange trading platform for tax evasion purposes focused inspection of suspicious brokers and depository participants undertaken to deal with increasing instances of bulk fraudulent smses to investors at large action was taken in a few cases to send a message to the market while the depository alert system has been strengthened in one case sebi said a telemarketer circulated bulk smses containing false news pertaining to a listed company on behalf of its alleged client the telemarketer did not do due diligence of its alleged client and accepted cash for rendering services thus engaging in deceitful activity the exchanges also sought explanation from listed companies in hundreds of cases of rumour mongering inspections were also conducted of books of account records and other documents pertaining to various market intermediaries such as venture capital funds portfolio managers mutual funds and investment advisors including to check compliance with respect to anti money laundering aml combating of financing terrorism cft and kyc norms sebi said money laundering is globally recognised as one of the largest threats posed to the financial system of a country while terrorist financing is another such emerging threat with grave consequences for both the political and economic standing of a jurisdiction as in the past during   too sebi continued focused efforts on strengthening the regulatory framework and minimising the risks emanating from money laundering and terrorist financing in the securities market sebi said it added that specific theme based inspections of intermediaries focusing on compliance with kyc norms including client due diligence and aml cft guidelines were carried out during   with respect to stock brokers sebi said it carried out over special purpose inspections to check their compliance with the aml cft and kyc norms of various market entities the compliance with aml cft norms was also verified by stock exchanges and depositories during their inspections of stock brokers and depository participants while appropriate sanctions were applied for any discrepancy giving details of the action taken for aml cft related discrepancies sebi said the bse took action against  entities cdsl against  mcx against  and the nse against  besides the bse and the nse issued warnings to  and  entities respectively while monetary penalties were also imposed on several of them sebi said it has consistently been in touch with global bodies and other indian regulators to keep the regulatory framework for aml cft robust in the indian securities market the indian markets regulator also stepped up its engagements with the iosco international organisation of securities commissions regarding information sharing and cooperation with its peers in other countries during   sebi received  requests for information from overseas regulators seeking its assistance sebi said it executed such requests subject to the provisions of the multilateral memorandum of understanding mmou similarly  such requests were made by sebi to its regulatory counterparts in other jurisdictions in   total   regulatory assistance requests were made or received by all capital market regulators under the iosco mmou framework \n",
      "1\n",
      "<type 'str'>\n",
      "tcs shares today advanced   to the day s high of rs    image reuters with vishal sikka stepping down from the post of ceo at infosys the shares of india s second largest information technology company tumbled more than  infosys stock today fell as much as   to the  week low of rs   while on contrary the shares of rival company tcs advanced   to the day s high of rs    other blue chip stocks which gained on bse sensex are power grid up   hul up   bharti airtel up   wipro up   and reliance industries up   indian equity markets also fell sharply snapping their three day gains as both the leading indices fell about  the benchmark sensex lost more than  points to trade below   level and the broader nifty  also plunged over  points to trade below   points the major drag on both the indices was due to the drop in shares of the heavyweight it company infosys the drag in infosys stock contributed around  points out of the total  points slump in the sensex other laggards on the benchmark were hdfc hdfc bank sun pharma tata motors and state bank of india while the shares of tcs hindustan unilever power grid reliance industries and bharti airtel helped to trim the losses the  share barometer was trading down   at    points while the wider nifty  was trading   lower at   points all the sectoral indices of nse were trading in negative territory with losses up to   nifty it nifty pharma were the major losers earlier today vishal sikka who had joined infosys three years ago in  from sap said that he is resigning from infosys on the account of rising personal disruptions as founder narayana murthy s attacks on the company management over corporate governance continue to grow vishal sikka said that s of hours were spent on tackling drumbeat of distraction and that the attacks undermined the good work done by the company ub pravin rao will serve as the interim md ceo of infosys \n",
      "2\n",
      "<type 'str'>\n",
      "the number of online shoppers could rise to  million by  from  million in  the report says while the number of mobile internet users is estimated to rise to  million by  from  million in  that of g users is forecast to surge to  million by  from as low as  million in  the report says the domestic e commerce bc market could grow to almost  billion by  from  billion in  according to the latest report by the confederation of indian industry cii and consultancy firm deloitte the report says factors such as government initiatives including digital india make in india and start up india increase internet penetration growth in adoption of smartphones evolution of new payment solutions partnerships among hyper local companies and india post in the logistics space and likely adoption of the goods and services tax regime at the earliest and empowerment of msmes are expected to enhance the growth of e commerce the number of online shoppers could rise to  million by  from  million in  the report says while the number of mobile internet users is estimated to rise to  million by  from  million in  that of g users is forecast to surge to  million by  from as low as  million in  the report says rise of the middle class consumers and changing shopping habits are adding to the online shopping demography increased access to global products and services at a click of a button and delivery to even remote locations would further drive up this number the report says however while the e commerce space has rapidly evolved several challenges have surfaced primarily in areas of taxation logistics payments internet penetration and skilled man power it says key challenges include the fact that although bc e commerce companies have raised and infused capital from investors to scale operations from a profitability perspective losses have grown faster than sales the report says majority of the companies rely on customer discounts leading to an absence of long term sustainable business models similarly due to the absence of a uniform tax structure states have adopted different tax frameworks and inter state goods movement is a challenge it not only increases operational and compliance costs but also delays timely delivery of goods the increasing incidences of cyber thefts and payment thefts in the industry also pose risks along with counterfeit products \n",
      "3\n",
      "<type 'str'>\n",
      "the government today gave some relief to taxpayers availing of transitional input tax credit under the gst regime by giving them an extra week till august  to file tax returns reuters the government today gave some relief to taxpayers availing of transitional input tax credit under the gst regime by giving them an extra week till august  to file tax returns businesses under the goods and services tax gst set up have to file their first return gstr b for july on the portal of gst network the it infrastructure provider for the new indirect tax regime by august  the return filing had commenced on august  the finance ministry today offered some relaxation to those businesses that claim transitional input tax credit these entities will have to deposit taxes on the basis of self assessment by august  but they will have one more week till august  to file their returns those taxpayers that do not claim any transitional input tax credit will have to necessarily pay tax and file return in form b before the due date of august  the ministry said it added that concerns have been raised about the form to claim transitional input tax credit not being available on the gstn website this form will be available on the gstn website from august  a small window of opportunity is being given to all the taxpayers the taxpayers who want to avail of the transitional input tax credit will have to make full settlement of the liability after adjusting the transitional input tax credit before august   it said you may also like to watch they will get time up to august   to submit form trans i after estimating transitional credit and form b in case of shortfall in the amount already paid vis a vis the amount payable on submission of form b the same will have to be paid with interest of  per cent for the period between august   till the payment of such differential amount the ministry said to make compliance easy for businesses the gst council has allowed businesses to initially file their returns on self assessment basis in the first two months of the gst rollout so the gst returns for july and august will be filed on the goods and services tax network gstn portal by filling the gstr b form over   lakh excise service tax and vat payers have migrated to the gstn portal also  lakh fresh registrations have happened on the portal the final gst returns for july will have to be filed by these businesses by september  instead of august  companies will have to file sale invoice for august with gst network by september  instead of september  earlier \n",
      "4\n",
      "<type 'str'>\n",
      "gross domestic product will grow   percent in  and   percent next year compared with   percent and   percent respectively in the previous survey conducted in june reuters qatar s economy will expand this year at the slowest pace since  according to economists surveyed by bloomberg this month as the impact of a saudi arabia led boycott is felt on trade and investor confidence gross domestic product will grow   percent in  and   percent next year compared with   percent and   percent respectively in the previous survey conducted in june economists now expect a budget deficit of   percent of gdp this year up from   percent while the forecast for inflation dropped to   percent from   percent saudi arabia the united arab emirates bahrain and egypt cut ties with qatar on june  accusing the nation of   million people of destabilizing the region through its ties to islamist extremists a charge qatar has repeatedly denied imports and foreign deposits have plummeted and interest rates soared exacerbating a broader slowdown due to lower global energy prices after almost two decades of rapid growth driven by a sevenfold increase in the production of oil and gas qatar s energy boom has waned this decade as projects were completed and focus shifted to promoting non oil growth as crude prices fell the world s biggest producer of liquefied natural gas is spending  billion to upgrade infrastructure ahead of the  soccer world cup and has aspirations to be a regional tourism and services hub even before the diplomatic crisis with regional powers it looked like qatar s non energy economy would slow said william jackson senior economist for emerging markets at capital economics the early signs are that the sanctions dealt a damaging blow to qatar s economy in june the impact appears to be temporary but it will still result in weaker growth amid the saudi led boycott officials have been trying to inspire confidence in the economy including plans to build food processing facilities near a new port and immigration rules introducing permanent residency to attract investors and some skilled workers in his only public address since the diplomatic spat began ruler sheikh tamim bin hamad al thani said qatar will open up its economy and diversify income sources qatar petroleum has also said it plans to increase its energy output by about a million barrels of oil equivalent per day in five to seven years positive outlook qatar s optimism is reflected in the bloomberg survey expectations for higher growth in  are independent of whether the boycott on qatar is lifted said both jackson at capital economics and farouk soussa london based chief economist for the middle east at citigroup inc we expect the disruptive impact of the boycott to have evaporated by next year soussa said trade routes will have been fully reconfigured confidence will have been restored building will recommence all possibly against a backdrop of a continued boycott but one that the economy has adapted to there s also a silver lining for qatar despite facing the slowest growth in more than two decades in  its economy is still forecast to expand the most in the six nation gulf cooperation council ahead of saudi arabia at   percent and the u a e at  percent according to the latest surveys \n",
      "5\n"
     ]
    }
   ],
   "source": [
    "outData = []\n",
    "notFound = []\n",
    "count = 0\n",
    "for d in FinancialActivity:\n",
    "    count += 1\n",
    "#------------------------------------     \n",
    "    output = Article(d)\n",
    "    output.download()\n",
    "    output.parse()\n",
    "    output = (output.text).encode('utf-8')\n",
    "    print type(output)\n",
    "#------------------------------------     \n",
    "    if(output != ''):\n",
    "        output = re.sub(r'\\W+', ' ', output)\n",
    "        output = output.replace('\"', '')\n",
    "        output = output.replace(\"'\", \"\")\n",
    "        output = output.lower()\n",
    "        output = re.sub('\\d', '', output)\n",
    "        print output\n",
    "        outData.append(output)\n",
    "#------------------------------------\n",
    "    if(output == ''):\n",
    "        outData.append(\"NA\")\n",
    "        notFound.append(d)\n",
    "        notFound.append(count)\n",
    "    print count"
   ]
  },
  {
   "cell_type": "code",
   "execution_count": null,
   "metadata": {
    "collapsed": true
   },
   "outputs": [],
   "source": []
  }
 ],
 "metadata": {
  "kernelspec": {
   "display_name": "Python 2",
   "language": "python",
   "name": "python2"
  },
  "language_info": {
   "codemirror_mode": {
    "name": "ipython",
    "version": 2
   },
   "file_extension": ".py",
   "mimetype": "text/x-python",
   "name": "python",
   "nbconvert_exporter": "python",
   "pygments_lexer": "ipython2",
   "version": "2.7.13"
  }
 },
 "nbformat": 4,
 "nbformat_minor": 2
}
